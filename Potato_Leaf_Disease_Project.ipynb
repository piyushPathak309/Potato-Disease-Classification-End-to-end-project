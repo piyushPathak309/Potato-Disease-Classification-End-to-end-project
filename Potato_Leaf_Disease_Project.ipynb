{
 "cells": [
  {
   "cell_type": "code",
   "execution_count": null,
   "metadata": {
    "id": "2EVOzl_LpcBC"
   },
   "outputs": [],
   "source": []
  },
  {
   "cell_type": "markdown",
   "metadata": {
    "id": "zqPR1OY2Yc00"
   },
   "source": [
    "**Potato Leaf Disease Prediction**"
   ]
  },
  {
   "cell_type": "markdown",
   "metadata": {
    "id": "onV70NDqXkCQ"
   },
   "source": [
    "# For training we have 900 images with label as 'Potato___Early_blight','Potato___Late_blight', 'Potato___healthy' and for validation we have 300 Images"
   ]
  },
  {
   "cell_type": "code",
   "execution_count": 9,
   "metadata": {
    "executionInfo": {
     "elapsed": 468,
     "status": "ok",
     "timestamp": 1645194573800,
     "user": {
      "displayName": "Piyush Pathak",
      "photoUrl": "https://lh3.googleusercontent.com/a-/AOh14GiSONxT50ZI8CliCwEkjxZ9TQ5ZtD-Ex6pitQ24=s64",
      "userId": "01449667557832630984"
     },
     "user_tz": -330
    },
    "id": "2p75VTGG1IXM"
   },
   "outputs": [],
   "source": [
    "import pandas as pd\n",
    "import numpy  as np\n",
    "import seaborn as sns\n",
    "import tensorflow as tf\n",
    "import matplotlib.pyplot as plt\n",
    "import tensorflow\n",
    "from keras.preprocessing.image import ImageDataGenerator\n",
    "from tensorflow.keras.optimizers import Adam \n",
    "from keras.callbacks import ModelCheckpoint\n",
    "from tensorflow.keras.applications.vgg16 import VGG16, preprocess_input\n",
    "from tensorflow.keras.preprocessing import image\n",
    "from keras.callbacks import ModelCheckpoint\n",
    "from keras.models import *\n",
    "from keras.layers import *"
   ]
  },
  {
   "cell_type": "code",
   "execution_count": 10,
   "metadata": {
    "executionInfo": {
     "elapsed": 5,
     "status": "ok",
     "timestamp": 1645194574203,
     "user": {
      "displayName": "Piyush Pathak",
      "photoUrl": "https://lh3.googleusercontent.com/a-/AOh14GiSONxT50ZI8CliCwEkjxZ9TQ5ZtD-Ex6pitQ24=s64",
      "userId": "01449667557832630984"
     },
     "user_tz": -330
    },
    "id": "_tkebptM1I9h"
   },
   "outputs": [],
   "source": [
    "train_data_path='/content/drive/MyDrive/Potato_Train_Data'\n",
    "valid_data_path='/content/drive/MyDrive/Potato_Valid_Data'"
   ]
  },
  {
   "cell_type": "code",
   "execution_count": 11,
   "metadata": {
    "executionInfo": {
     "elapsed": 4,
     "status": "ok",
     "timestamp": 1645194574879,
     "user": {
      "displayName": "Piyush Pathak",
      "photoUrl": "https://lh3.googleusercontent.com/a-/AOh14GiSONxT50ZI8CliCwEkjxZ9TQ5ZtD-Ex6pitQ24=s64",
      "userId": "01449667557832630984"
     },
     "user_tz": -330
    },
    "id": "PX2aLRH61JAV"
   },
   "outputs": [],
   "source": [
    "training_datagen = ImageDataGenerator(rescale = 1./255,\n",
    "                                   rotation_range=40,\n",
    "                                    width_shift_range=0.2,\n",
    "                                    height_shift_range=0.2,\n",
    "                                   shear_range = 0.2,\n",
    "                                   zoom_range = 0.2,\n",
    "                                   fill_mode='nearest',\n",
    "                                   horizontal_flip = True)"
   ]
  },
  {
   "cell_type": "code",
   "execution_count": 12,
   "metadata": {
    "colab": {
     "base_uri": "https://localhost:8080/"
    },
    "executionInfo": {
     "elapsed": 682,
     "status": "ok",
     "timestamp": 1645194576334,
     "user": {
      "displayName": "Piyush Pathak",
      "photoUrl": "https://lh3.googleusercontent.com/a-/AOh14GiSONxT50ZI8CliCwEkjxZ9TQ5ZtD-Ex6pitQ24=s64",
      "userId": "01449667557832630984"
     },
     "user_tz": -330
    },
    "id": "5VQdVuML1JD9",
    "outputId": "66871c5d-c556-4525-e87c-17062b633f14"
   },
   "outputs": [
    {
     "name": "stdout",
     "output_type": "stream",
     "text": [
      "Found 900 images belonging to 3 classes.\n"
     ]
    }
   ],
   "source": [
    "training_data=training_datagen.flow_from_directory(train_data_path, \n",
    "                                      target_size=(224,224), \n",
    "                                      batch_size=32,\n",
    "                                      class_mode='sparse')"
   ]
  },
  {
   "cell_type": "code",
   "execution_count": 13,
   "metadata": {
    "colab": {
     "base_uri": "https://localhost:8080/"
    },
    "executionInfo": {
     "elapsed": 7,
     "status": "ok",
     "timestamp": 1645194576335,
     "user": {
      "displayName": "Piyush Pathak",
      "photoUrl": "https://lh3.googleusercontent.com/a-/AOh14GiSONxT50ZI8CliCwEkjxZ9TQ5ZtD-Ex6pitQ24=s64",
      "userId": "01449667557832630984"
     },
     "user_tz": -330
    },
    "id": "Tdj1XP73_BUD",
    "outputId": "1b50d5e9-2d77-405a-b7f3-3fb982303b4f"
   },
   "outputs": [
    {
     "data": {
      "text/plain": [
       "{'Potato___Early_blight': 0, 'Potato___Late_blight': 1, 'Potato___healthy': 2}"
      ]
     },
     "execution_count": 13,
     "metadata": {},
     "output_type": "execute_result"
    }
   ],
   "source": [
    "training_data.class_indices"
   ]
  },
  {
   "cell_type": "code",
   "execution_count": 14,
   "metadata": {
    "executionInfo": {
     "elapsed": 7,
     "status": "ok",
     "timestamp": 1645194577832,
     "user": {
      "displayName": "Piyush Pathak",
      "photoUrl": "https://lh3.googleusercontent.com/a-/AOh14GiSONxT50ZI8CliCwEkjxZ9TQ5ZtD-Ex6pitQ24=s64",
      "userId": "01449667557832630984"
     },
     "user_tz": -330
    },
    "id": "EbXRlmkL3Ju5"
   },
   "outputs": [],
   "source": [
    "valid_datagen=ImageDataGenerator(rescale=1./255)"
   ]
  },
  {
   "cell_type": "code",
   "execution_count": 15,
   "metadata": {
    "colab": {
     "base_uri": "https://localhost:8080/"
    },
    "executionInfo": {
     "elapsed": 427,
     "status": "ok",
     "timestamp": 1645194581414,
     "user": {
      "displayName": "Piyush Pathak",
      "photoUrl": "https://lh3.googleusercontent.com/a-/AOh14GiSONxT50ZI8CliCwEkjxZ9TQ5ZtD-Ex6pitQ24=s64",
      "userId": "01449667557832630984"
     },
     "user_tz": -330
    },
    "id": "CXubbxFs3JyB",
    "outputId": "8c5c0321-c4b3-4ecc-bbe4-1f17d7889cad"
   },
   "outputs": [
    {
     "name": "stdout",
     "output_type": "stream",
     "text": [
      "Found 300 images belonging to 3 classes.\n"
     ]
    }
   ],
   "source": [
    "Validation_data=valid_datagen.flow_from_directory(valid_data_path, \n",
    "                                      target_size=(224,224), \n",
    "                                      batch_size=32,\n",
    "                                      class_mode='sparse')"
   ]
  },
  {
   "cell_type": "code",
   "execution_count": 16,
   "metadata": {
    "colab": {
     "base_uri": "https://localhost:8080/"
    },
    "executionInfo": {
     "elapsed": 4946,
     "status": "ok",
     "timestamp": 1645194586354,
     "user": {
      "displayName": "Piyush Pathak",
      "photoUrl": "https://lh3.googleusercontent.com/a-/AOh14GiSONxT50ZI8CliCwEkjxZ9TQ5ZtD-Ex6pitQ24=s64",
      "userId": "01449667557832630984"
     },
     "user_tz": -330
    },
    "id": "XWuxb_bC3J1F",
    "outputId": "f23bdcd5-bd87-4233-e2dd-662445778750"
   },
   "outputs": [
    {
     "name": "stdout",
     "output_type": "stream",
     "text": [
      "Downloading data from https://storage.googleapis.com/tensorflow/keras-applications/vgg16/vgg16_weights_tf_dim_ordering_tf_kernels_notop.h5\n",
      "58892288/58889256 [==============================] - 0s 0us/step\n",
      "58900480/58889256 [==============================] - 0s 0us/step\n"
     ]
    }
   ],
   "source": [
    "model=VGG16(weights='imagenet', include_top=False, input_shape=(224, 224, 3))"
   ]
  },
  {
   "cell_type": "code",
   "execution_count": 17,
   "metadata": {
    "colab": {
     "base_uri": "https://localhost:8080/"
    },
    "executionInfo": {
     "elapsed": 234,
     "status": "ok",
     "timestamp": 1645194586355,
     "user": {
      "displayName": "Piyush Pathak",
      "photoUrl": "https://lh3.googleusercontent.com/a-/AOh14GiSONxT50ZI8CliCwEkjxZ9TQ5ZtD-Ex6pitQ24=s64",
      "userId": "01449667557832630984"
     },
     "user_tz": -330
    },
    "id": "J8DMoJjl3J43",
    "outputId": "9c090de4-ceae-4319-83d6-c8bcf112d5c6"
   },
   "outputs": [
    {
     "name": "stdout",
     "output_type": "stream",
     "text": [
      "Model: \"vgg16\"\n",
      "_________________________________________________________________\n",
      " Layer (type)                Output Shape              Param #   \n",
      "=================================================================\n",
      " input_1 (InputLayer)        [(None, 224, 224, 3)]     0         \n",
      "                                                                 \n",
      " block1_conv1 (Conv2D)       (None, 224, 224, 64)      1792      \n",
      "                                                                 \n",
      " block1_conv2 (Conv2D)       (None, 224, 224, 64)      36928     \n",
      "                                                                 \n",
      " block1_pool (MaxPooling2D)  (None, 112, 112, 64)      0         \n",
      "                                                                 \n",
      " block2_conv1 (Conv2D)       (None, 112, 112, 128)     73856     \n",
      "                                                                 \n",
      " block2_conv2 (Conv2D)       (None, 112, 112, 128)     147584    \n",
      "                                                                 \n",
      " block2_pool (MaxPooling2D)  (None, 56, 56, 128)       0         \n",
      "                                                                 \n",
      " block3_conv1 (Conv2D)       (None, 56, 56, 256)       295168    \n",
      "                                                                 \n",
      " block3_conv2 (Conv2D)       (None, 56, 56, 256)       590080    \n",
      "                                                                 \n",
      " block3_conv3 (Conv2D)       (None, 56, 56, 256)       590080    \n",
      "                                                                 \n",
      " block3_pool (MaxPooling2D)  (None, 28, 28, 256)       0         \n",
      "                                                                 \n",
      " block4_conv1 (Conv2D)       (None, 28, 28, 512)       1180160   \n",
      "                                                                 \n",
      " block4_conv2 (Conv2D)       (None, 28, 28, 512)       2359808   \n",
      "                                                                 \n",
      " block4_conv3 (Conv2D)       (None, 28, 28, 512)       2359808   \n",
      "                                                                 \n",
      " block4_pool (MaxPooling2D)  (None, 14, 14, 512)       0         \n",
      "                                                                 \n",
      " block5_conv1 (Conv2D)       (None, 14, 14, 512)       2359808   \n",
      "                                                                 \n",
      " block5_conv2 (Conv2D)       (None, 14, 14, 512)       2359808   \n",
      "                                                                 \n",
      " block5_conv3 (Conv2D)       (None, 14, 14, 512)       2359808   \n",
      "                                                                 \n",
      " block5_pool (MaxPooling2D)  (None, 7, 7, 512)         0         \n",
      "                                                                 \n",
      "=================================================================\n",
      "Total params: 14,714,688\n",
      "Trainable params: 14,714,688\n",
      "Non-trainable params: 0\n",
      "_________________________________________________________________\n"
     ]
    }
   ],
   "source": [
    "model.summary()"
   ]
  },
  {
   "cell_type": "code",
   "execution_count": 18,
   "metadata": {
    "executionInfo": {
     "elapsed": 16,
     "status": "ok",
     "timestamp": 1645194586356,
     "user": {
      "displayName": "Piyush Pathak",
      "photoUrl": "https://lh3.googleusercontent.com/a-/AOh14GiSONxT50ZI8CliCwEkjxZ9TQ5ZtD-Ex6pitQ24=s64",
      "userId": "01449667557832630984"
     },
     "user_tz": -330
    },
    "id": "R_2PkIVJ3X80"
   },
   "outputs": [],
   "source": [
    "model.trainable=False"
   ]
  },
  {
   "cell_type": "code",
   "execution_count": 19,
   "metadata": {
    "executionInfo": {
     "elapsed": 16,
     "status": "ok",
     "timestamp": 1645194586357,
     "user": {
      "displayName": "Piyush Pathak",
      "photoUrl": "https://lh3.googleusercontent.com/a-/AOh14GiSONxT50ZI8CliCwEkjxZ9TQ5ZtD-Ex6pitQ24=s64",
      "userId": "01449667557832630984"
     },
     "user_tz": -330
    },
    "id": "g1iGqNWt3X_1"
   },
   "outputs": [],
   "source": [
    "model = tensorflow.keras.Sequential([\n",
    "    model,\n",
    "    GlobalMaxPool2D()\n",
    "])"
   ]
  },
  {
   "cell_type": "code",
   "execution_count": 20,
   "metadata": {
    "executionInfo": {
     "elapsed": 16,
     "status": "ok",
     "timestamp": 1645194586358,
     "user": {
      "displayName": "Piyush Pathak",
      "photoUrl": "https://lh3.googleusercontent.com/a-/AOh14GiSONxT50ZI8CliCwEkjxZ9TQ5ZtD-Ex6pitQ24=s64",
      "userId": "01449667557832630984"
     },
     "user_tz": -330
    },
    "id": "qVkRjA5q3YCu"
   },
   "outputs": [],
   "source": [
    "model.add(Dense(3,activation='softmax'))"
   ]
  },
  {
   "cell_type": "code",
   "execution_count": 21,
   "metadata": {
    "colab": {
     "base_uri": "https://localhost:8080/"
    },
    "executionInfo": {
     "elapsed": 19,
     "status": "ok",
     "timestamp": 1645194591532,
     "user": {
      "displayName": "Piyush Pathak",
      "photoUrl": "https://lh3.googleusercontent.com/a-/AOh14GiSONxT50ZI8CliCwEkjxZ9TQ5ZtD-Ex6pitQ24=s64",
      "userId": "01449667557832630984"
     },
     "user_tz": -330
    },
    "id": "_eMs3Zcw3YFZ",
    "outputId": "8425fbff-5d51-426d-b4c2-5c0cc6d9fdf0"
   },
   "outputs": [
    {
     "name": "stdout",
     "output_type": "stream",
     "text": [
      "Model: \"sequential\"\n",
      "_________________________________________________________________\n",
      " Layer (type)                Output Shape              Param #   \n",
      "=================================================================\n",
      " vgg16 (Functional)          (None, 7, 7, 512)         14714688  \n",
      "                                                                 \n",
      " global_max_pooling2d (Globa  (None, 512)              0         \n",
      " lMaxPooling2D)                                                  \n",
      "                                                                 \n",
      " dense (Dense)               (None, 3)                 1539      \n",
      "                                                                 \n",
      "=================================================================\n",
      "Total params: 14,716,227\n",
      "Trainable params: 1,539\n",
      "Non-trainable params: 14,714,688\n",
      "_________________________________________________________________\n"
     ]
    }
   ],
   "source": [
    "model.summary()"
   ]
  },
  {
   "cell_type": "code",
   "execution_count": 22,
   "metadata": {
    "executionInfo": {
     "elapsed": 6,
     "status": "ok",
     "timestamp": 1645194592796,
     "user": {
      "displayName": "Piyush Pathak",
      "photoUrl": "https://lh3.googleusercontent.com/a-/AOh14GiSONxT50ZI8CliCwEkjxZ9TQ5ZtD-Ex6pitQ24=s64",
      "userId": "01449667557832630984"
     },
     "user_tz": -330
    },
    "id": "uDfodRzG3YIJ"
   },
   "outputs": [],
   "source": [
    "model.compile(optimizer ='Adam', loss='sparse_categorical_crossentropy', metrics=['accuracy'])"
   ]
  },
  {
   "cell_type": "code",
   "execution_count": 23,
   "metadata": {
    "executionInfo": {
     "elapsed": 6,
     "status": "ok",
     "timestamp": 1645194596347,
     "user": {
      "displayName": "Piyush Pathak",
      "photoUrl": "https://lh3.googleusercontent.com/a-/AOh14GiSONxT50ZI8CliCwEkjxZ9TQ5ZtD-Ex6pitQ24=s64",
      "userId": "01449667557832630984"
     },
     "user_tz": -330
    },
    "id": "xBpCrNyj3usb"
   },
   "outputs": [],
   "source": [
    "model_path = '/content/drive/MyDrive/CNN_Potato_leaf_Disease_project/CNN_Potato_leaf_Disease_project_VGG16.h5'\n",
    "checkpoint = ModelCheckpoint(model_path, monitor='val_accuracy', verbose=1, save_best_only=True, mode='max')\n",
    "callbacks_list = [checkpoint] "
   ]
  },
  {
   "cell_type": "code",
   "execution_count": 25,
   "metadata": {
    "colab": {
     "base_uri": "https://localhost:8080/"
    },
    "executionInfo": {
     "elapsed": 395523,
     "status": "ok",
     "timestamp": 1645195353420,
     "user": {
      "displayName": "Piyush Pathak",
      "photoUrl": "https://lh3.googleusercontent.com/a-/AOh14GiSONxT50ZI8CliCwEkjxZ9TQ5ZtD-Ex6pitQ24=s64",
      "userId": "01449667557832630984"
     },
     "user_tz": -330
    },
    "id": "DP0SxAVLbG-H",
    "outputId": "3df0b1b8-4f35-45cf-f401-b412a8831b79"
   },
   "outputs": [
    {
     "name": "stdout",
     "output_type": "stream",
     "text": [
      "Epoch 1/20\n",
      "29/29 [==============================] - ETA: 0s - loss: 0.9964 - accuracy: 0.5144\n",
      "Epoch 1: val_accuracy improved from 0.54000 to 0.68000, saving model to /content/drive/MyDrive/CNN_Potato_leaf_Disease_project/CNN_Potato_leaf_Disease_project_VGG16.h5\n",
      "29/29 [==============================] - 21s 704ms/step - loss: 0.9964 - accuracy: 0.5144 - val_loss: 0.8399 - val_accuracy: 0.6800\n",
      "Epoch 2/20\n",
      "29/29 [==============================] - ETA: 0s - loss: 0.8447 - accuracy: 0.6333\n",
      "Epoch 2: val_accuracy did not improve from 0.68000\n",
      "29/29 [==============================] - 19s 680ms/step - loss: 0.8447 - accuracy: 0.6333 - val_loss: 0.7923 - val_accuracy: 0.6367\n",
      "Epoch 3/20\n",
      "29/29 [==============================] - ETA: 0s - loss: 0.7686 - accuracy: 0.6867\n",
      "Epoch 3: val_accuracy improved from 0.68000 to 0.77333, saving model to /content/drive/MyDrive/CNN_Potato_leaf_Disease_project/CNN_Potato_leaf_Disease_project_VGG16.h5\n",
      "29/29 [==============================] - 20s 689ms/step - loss: 0.7686 - accuracy: 0.6867 - val_loss: 0.6885 - val_accuracy: 0.7733\n",
      "Epoch 4/20\n",
      "29/29 [==============================] - ETA: 0s - loss: 0.7046 - accuracy: 0.7111\n",
      "Epoch 4: val_accuracy improved from 0.77333 to 0.79000, saving model to /content/drive/MyDrive/CNN_Potato_leaf_Disease_project/CNN_Potato_leaf_Disease_project_VGG16.h5\n",
      "29/29 [==============================] - 20s 697ms/step - loss: 0.7046 - accuracy: 0.7111 - val_loss: 0.6479 - val_accuracy: 0.7900\n",
      "Epoch 5/20\n",
      "29/29 [==============================] - ETA: 0s - loss: 0.6455 - accuracy: 0.7644\n",
      "Epoch 5: val_accuracy improved from 0.79000 to 0.81000, saving model to /content/drive/MyDrive/CNN_Potato_leaf_Disease_project/CNN_Potato_leaf_Disease_project_VGG16.h5\n",
      "29/29 [==============================] - 20s 687ms/step - loss: 0.6455 - accuracy: 0.7644 - val_loss: 0.5872 - val_accuracy: 0.8100\n",
      "Epoch 6/20\n",
      "29/29 [==============================] - ETA: 0s - loss: 0.6183 - accuracy: 0.7700\n",
      "Epoch 6: val_accuracy improved from 0.81000 to 0.82333, saving model to /content/drive/MyDrive/CNN_Potato_leaf_Disease_project/CNN_Potato_leaf_Disease_project_VGG16.h5\n",
      "29/29 [==============================] - 20s 692ms/step - loss: 0.6183 - accuracy: 0.7700 - val_loss: 0.5559 - val_accuracy: 0.8233\n",
      "Epoch 7/20\n",
      "29/29 [==============================] - ETA: 0s - loss: 0.5845 - accuracy: 0.7778\n",
      "Epoch 7: val_accuracy improved from 0.82333 to 0.83000, saving model to /content/drive/MyDrive/CNN_Potato_leaf_Disease_project/CNN_Potato_leaf_Disease_project_VGG16.h5\n",
      "29/29 [==============================] - 20s 694ms/step - loss: 0.5845 - accuracy: 0.7778 - val_loss: 0.5473 - val_accuracy: 0.8300\n",
      "Epoch 8/20\n",
      "29/29 [==============================] - ETA: 0s - loss: 0.5415 - accuracy: 0.8067\n",
      "Epoch 8: val_accuracy improved from 0.83000 to 0.83333, saving model to /content/drive/MyDrive/CNN_Potato_leaf_Disease_project/CNN_Potato_leaf_Disease_project_VGG16.h5\n",
      "29/29 [==============================] - 20s 688ms/step - loss: 0.5415 - accuracy: 0.8067 - val_loss: 0.5190 - val_accuracy: 0.8333\n",
      "Epoch 9/20\n",
      "29/29 [==============================] - ETA: 0s - loss: 0.5163 - accuracy: 0.8244\n",
      "Epoch 9: val_accuracy did not improve from 0.83333\n",
      "29/29 [==============================] - 19s 663ms/step - loss: 0.5163 - accuracy: 0.8244 - val_loss: 0.5591 - val_accuracy: 0.7667\n",
      "Epoch 10/20\n",
      "29/29 [==============================] - ETA: 0s - loss: 0.5025 - accuracy: 0.8267\n",
      "Epoch 10: val_accuracy did not improve from 0.83333\n",
      "29/29 [==============================] - 19s 655ms/step - loss: 0.5025 - accuracy: 0.8267 - val_loss: 0.5463 - val_accuracy: 0.7800\n",
      "Epoch 11/20\n",
      "29/29 [==============================] - ETA: 0s - loss: 0.5108 - accuracy: 0.8111\n",
      "Epoch 11: val_accuracy did not improve from 0.83333\n",
      "29/29 [==============================] - 19s 654ms/step - loss: 0.5108 - accuracy: 0.8111 - val_loss: 0.4880 - val_accuracy: 0.8333\n",
      "Epoch 12/20\n",
      "29/29 [==============================] - ETA: 0s - loss: 0.4724 - accuracy: 0.8400\n",
      "Epoch 12: val_accuracy improved from 0.83333 to 0.84000, saving model to /content/drive/MyDrive/CNN_Potato_leaf_Disease_project/CNN_Potato_leaf_Disease_project_VGG16.h5\n",
      "29/29 [==============================] - 20s 680ms/step - loss: 0.4724 - accuracy: 0.8400 - val_loss: 0.4768 - val_accuracy: 0.8400\n",
      "Epoch 13/20\n",
      "29/29 [==============================] - ETA: 0s - loss: 0.4546 - accuracy: 0.8467\n",
      "Epoch 13: val_accuracy improved from 0.84000 to 0.85000, saving model to /content/drive/MyDrive/CNN_Potato_leaf_Disease_project/CNN_Potato_leaf_Disease_project_VGG16.h5\n",
      "29/29 [==============================] - 20s 691ms/step - loss: 0.4546 - accuracy: 0.8467 - val_loss: 0.4615 - val_accuracy: 0.8500\n",
      "Epoch 14/20\n",
      "29/29 [==============================] - ETA: 0s - loss: 0.4374 - accuracy: 0.8567\n",
      "Epoch 14: val_accuracy did not improve from 0.85000\n",
      "29/29 [==============================] - 19s 678ms/step - loss: 0.4374 - accuracy: 0.8567 - val_loss: 0.4534 - val_accuracy: 0.8467\n",
      "Epoch 15/20\n",
      "29/29 [==============================] - ETA: 0s - loss: 0.4338 - accuracy: 0.8500\n",
      "Epoch 15: val_accuracy improved from 0.85000 to 0.86667, saving model to /content/drive/MyDrive/CNN_Potato_leaf_Disease_project/CNN_Potato_leaf_Disease_project_VGG16.h5\n",
      "29/29 [==============================] - 20s 680ms/step - loss: 0.4338 - accuracy: 0.8500 - val_loss: 0.4318 - val_accuracy: 0.8667\n",
      "Epoch 16/20\n",
      "29/29 [==============================] - ETA: 0s - loss: 0.4115 - accuracy: 0.8600\n",
      "Epoch 16: val_accuracy improved from 0.86667 to 0.88333, saving model to /content/drive/MyDrive/CNN_Potato_leaf_Disease_project/CNN_Potato_leaf_Disease_project_VGG16.h5\n",
      "29/29 [==============================] - 20s 683ms/step - loss: 0.4115 - accuracy: 0.8600 - val_loss: 0.4143 - val_accuracy: 0.8833\n",
      "Epoch 17/20\n",
      "29/29 [==============================] - ETA: 0s - loss: 0.4054 - accuracy: 0.8556\n",
      "Epoch 17: val_accuracy did not improve from 0.88333\n",
      "29/29 [==============================] - 19s 654ms/step - loss: 0.4054 - accuracy: 0.8556 - val_loss: 0.4356 - val_accuracy: 0.8300\n",
      "Epoch 18/20\n",
      "29/29 [==============================] - ETA: 0s - loss: 0.3918 - accuracy: 0.8644\n",
      "Epoch 18: val_accuracy did not improve from 0.88333\n",
      "29/29 [==============================] - 19s 644ms/step - loss: 0.3918 - accuracy: 0.8644 - val_loss: 0.4060 - val_accuracy: 0.8733\n",
      "Epoch 19/20\n",
      "29/29 [==============================] - ETA: 0s - loss: 0.3925 - accuracy: 0.8589\n",
      "Epoch 19: val_accuracy did not improve from 0.88333\n",
      "29/29 [==============================] - 19s 653ms/step - loss: 0.3925 - accuracy: 0.8589 - val_loss: 0.4213 - val_accuracy: 0.8500\n",
      "Epoch 20/20\n",
      "29/29 [==============================] - ETA: 0s - loss: 0.3981 - accuracy: 0.8667\n",
      "Epoch 20: val_accuracy did not improve from 0.88333\n",
      "29/29 [==============================] - 19s 653ms/step - loss: 0.3981 - accuracy: 0.8667 - val_loss: 0.4399 - val_accuracy: 0.8200\n"
     ]
    }
   ],
   "source": [
    "history=model.fit(training_data,epochs=20, verbose=1, validation_data= Validation_data,steps_per_epoch=len(training_data),\n",
    "  validation_steps=len(Validation_data),\n",
    "              callbacks=callbacks_list)"
   ]
  },
  {
   "cell_type": "code",
   "execution_count": 26,
   "metadata": {
    "colab": {
     "base_uri": "https://localhost:8080/",
     "height": 573
    },
    "executionInfo": {
     "elapsed": 2364,
     "status": "ok",
     "timestamp": 1645195459846,
     "user": {
      "displayName": "Piyush Pathak",
      "photoUrl": "https://lh3.googleusercontent.com/a-/AOh14GiSONxT50ZI8CliCwEkjxZ9TQ5ZtD-Ex6pitQ24=s64",
      "userId": "01449667557832630984"
     },
     "user_tz": -330
    },
    "id": "nNFXkUq13uyh",
    "outputId": "d2e1c87c-f9d9-4484-c05d-5b93b3803c39"
   },
   "outputs": [
    {
     "data": {
      "image/png": "[encoded data removed]",
      "text/plain": [
       "<Figure size 432x288 with 1 Axes>"
      ]
     },
     "metadata": {
      "needs_background": "light"
     },
     "output_type": "display_data"
    },
    {
     "data": {
      "image/png": "[encoded data removed]",
      "text/plain": [
       "<Figure size 432x288 with 1 Axes>"
      ]
     },
     "metadata": {
      "needs_background": "light"
     },
     "output_type": "display_data"
    }
   ],
   "source": [
    "# summarize history for accuracy\n",
    "plt.plot(history.history['accuracy'])\n",
    "plt.plot(history.history['val_accuracy'])\n",
    "plt.title('model accuracy')\n",
    "plt.ylabel('accuracy')\n",
    "plt.xlabel('epoch')\n",
    "plt.legend(['train', 'test'], loc='upper left')\n",
    "plt.show()\n",
    "# summarize history for loss\n",
    "plt.plot(history.history['loss'])\n",
    "plt.plot(history.history['val_loss'])\n",
    "plt.title('model loss')\n",
    "plt.ylabel('loss')\n",
    "plt.xlabel('epoch')\n",
    "plt.legend(['train', 'test'], loc='upper left')\n",
    "plt.show()"
   ]
  },
  {
   "cell_type": "code",
   "execution_count": 27,
   "metadata": {
    "executionInfo": {
     "elapsed": 32,
     "status": "ok",
     "timestamp": 1645195570446,
     "user": {
      "displayName": "Piyush Pathak",
      "photoUrl": "https://lh3.googleusercontent.com/a-/AOh14GiSONxT50ZI8CliCwEkjxZ9TQ5ZtD-Ex6pitQ24=s64",
      "userId": "01449667557832630984"
     },
     "user_tz": -330
    },
    "id": "t80g2UvO3u14"
   },
   "outputs": [],
   "source": [
    "model.save('Potato_Leaf_Disease_Project.h5')"
   ]
  },
  {
   "cell_type": "code",
   "execution_count": null,
   "metadata": {
    "id": "7LZfKIl73u5e"
   },
   "outputs": [],
   "source": []
  },
  {
   "cell_type": "code",
   "execution_count": null,
   "metadata": {
    "id": "UbLGcucE3YLt"
   },
   "outputs": [],
   "source": []
  },
  {
   "cell_type": "code",
   "execution_count": null,
   "metadata": {
    "id": "DGWGHF4f3J8U"
   },
   "outputs": [],
   "source": []
  }
 ],
 "metadata": {
  "accelerator": "GPU",
  "colab": {
   "authorship_tag": "ABX9TyPKzMiiDOvcQOsboPy4Wf2j",
   "mount_file_id": "1mNFZf5E123tluBlzNf3H3w2b8jhRZz8o",
   "name": "Potato_Leaf_Disease_Project.ipynb",
   "provenance": []
  },
  "kernelspec": {
   "display_name": "Python 3",
   "language": "python",
   "name": "python3"
  },
  "language_info": {
   "codemirror_mode": {
    "name": "ipython",
    "version": 3
   },
   "file_extension": ".py",
   "mimetype": "text/x-python",
   "name": "python",
   "nbconvert_exporter": "python",
   "pygments_lexer": "ipython3",
   "version": "3.8.5"
  }
 },
 "nbformat": 4,
 "nbformat_minor": 1
}
